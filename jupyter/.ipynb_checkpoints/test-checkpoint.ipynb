{
 "cells": [
  {
   "cell_type": "markdown",
   "id": "664a5327",
   "metadata": {},
   "source": [
    "## MlOps"
   ]
  },
  {
   "cell_type": "markdown",
   "id": "85e6aa4c",
   "metadata": {},
   "source": [
    "## Получение данных через sklearn datasets"
   ]
  },
  {
   "cell_type": "code",
   "execution_count": 312,
   "id": "661f4ddd",
   "metadata": {
    "scrolled": false
   },
   "outputs": [
    {
     "data": {
      "text/plain": [
       "(array([[1.423e+01, 1.710e+00, 2.430e+00, 1.560e+01, 1.270e+02, 2.800e+00,\n",
       "         3.060e+00, 2.800e-01, 2.290e+00, 5.640e+00, 1.040e+00, 3.920e+00,\n",
       "         1.065e+03],\n",
       "        [1.320e+01, 1.780e+00, 2.140e+00, 1.120e+01, 1.000e+02, 2.650e+00,\n",
       "         2.760e+00, 2.600e-01, 1.280e+00, 4.380e+00, 1.050e+00, 3.400e+00,\n",
       "         1.050e+03],\n",
       "        [1.316e+01, 2.360e+00, 2.670e+00, 1.860e+01, 1.010e+02, 2.800e+00,\n",
       "         3.240e+00, 3.000e-01, 2.810e+00, 5.680e+00, 1.030e+00, 3.170e+00,\n",
       "         1.185e+03]]),\n",
       " array([0, 0, 0]))"
      ]
     },
     "execution_count": 312,
     "metadata": {},
     "output_type": "execute_result"
    }
   ],
   "source": [
    "from sklearn.datasets import load_wine\n",
    "x, y = load_wine(return_X_y=True)\n",
    "x[:3], y[:3]\n"
   ]
  },
  {
   "cell_type": "markdown",
   "id": "dca0541e",
   "metadata": {},
   "source": [
    " "
   ]
  },
  {
   "cell_type": "markdown",
   "id": "d12b7905",
   "metadata": {},
   "source": [
    "## Разделение данных\n"
   ]
  },
  {
   "cell_type": "code",
   "execution_count": 313,
   "id": "b6d77155",
   "metadata": {},
   "outputs": [
    {
     "name": "stdout",
     "output_type": "stream",
     "text": [
      "[[1.237e+01 1.210e+00 2.560e+00 1.810e+01 9.800e+01 2.420e+00 2.650e+00\n",
      "  3.700e-01 2.080e+00 4.600e+00 1.190e+00 2.300e+00 6.780e+02]\n",
      " [1.285e+01 1.600e+00 2.520e+00 1.780e+01 9.500e+01 2.480e+00 2.370e+00\n",
      "  2.600e-01 1.460e+00 3.930e+00 1.090e+00 3.630e+00 1.015e+03]\n",
      " [1.252e+01 2.430e+00 2.170e+00 2.100e+01 8.800e+01 2.550e+00 2.270e+00\n",
      "  2.600e-01 1.220e+00 2.000e+00 9.000e-01 2.780e+00 3.250e+02]]\n",
      "\n",
      "[1 0 1]\n",
      "\n",
      "[[1.420e+01 1.760e+00 2.450e+00 1.520e+01 1.120e+02 3.270e+00 3.390e+00\n",
      "  3.400e-01 1.970e+00 6.750e+00 1.050e+00 2.850e+00 1.450e+03]\n",
      " [1.340e+01 4.600e+00 2.860e+00 2.500e+01 1.120e+02 1.980e+00 9.600e-01\n",
      "  2.700e-01 1.110e+00 8.500e+00 6.700e-01 1.920e+00 6.300e+02]\n",
      " [1.247e+01 1.520e+00 2.200e+00 1.900e+01 1.620e+02 2.500e+00 2.270e+00\n",
      "  3.200e-01 3.280e+00 2.600e+00 1.160e+00 2.630e+00 9.370e+02]]\n",
      "\n",
      "[0 2 1]\n"
     ]
    }
   ],
   "source": [
    "from sklearn.model_selection import train_test_split\n",
    "\n",
    "x_train, x_test, y_train, y_test = train_test_split(x, y)\n",
    "\n",
    "print(x_train[:3])\n",
    "print()\n",
    "print(y_train[:3])\n",
    "print()\n",
    "print(x_test[:3])\n",
    "print()\n",
    "print(y_test[:3])"
   ]
  },
  {
   "cell_type": "markdown",
   "id": "47de6de5",
   "metadata": {},
   "source": [
    "sklearn.model_selection\n",
    "\n",
    "train_test_split - Разбивает выборку случайным образом на 2 подвыборки: обучающую и тестовую"
   ]
  },
  {
   "cell_type": "markdown",
   "id": "a5203be2",
   "metadata": {},
   "source": [
    "## Обработка данных\n",
    "Перед тем как обучать данные, их нужно обработать некоторым образом.\n",
    "### Стандартизация \n",
    "Стандартизированные данные содержат ту же информацию, но имеют средние значение 0 и отклонение 1."
   ]
  },
  {
   "cell_type": "code",
   "execution_count": 314,
   "id": "960755c2",
   "metadata": {},
   "outputs": [
    {
     "name": "stdout",
     "output_type": "stream",
     "text": [
      "Before Standardization:\n",
      " [[-0.74544101 -1.00048299  0.748931   -0.48939272 -0.07618673  0.22790155\n",
      "   0.64759666  0.0747478   0.86063145 -0.1535887   0.99998626 -0.45599879\n",
      "  -0.12221957]\n",
      " [-0.15331766 -0.66299809  0.60373009 -0.5798363  -0.29970517  0.32287045\n",
      "   0.36313689 -0.81432564 -0.28051133 -0.43514165  0.57101525  1.37597092\n",
      "   1.01523963]\n",
      " [-0.56040246  0.055239   -0.66677786  0.38489525 -0.82124818  0.43366749\n",
      "   0.26154411 -0.81432564 -0.72224401 -1.24618225 -0.24402967  0.20516321\n",
      "  -1.31368278]]\n",
      "\n",
      "After Standardization:\n",
      " [[-0.39815706 -0.49531907  0.10430062 -0.25417856  0.17335485  0.76425397\n",
      "   0.75928791 -0.68025906 -0.98261433 -0.82269316  1.1606457   0.42352363\n",
      "  -0.87925187]\n",
      " [ 2.17554796 -0.49531907  0.99767338 -0.25417856  1.26447056 -2.42492242\n",
      "   1.12875074 -1.11469531  1.63759035  1.50878213  0.7910335   0.45984392\n",
      "   2.27641012]\n",
      " [ 0.08504329 -0.49531907  0.99767338 -0.25417856  1.37615957 -0.45364812\n",
      "   0.71094697 -0.58990274  1.63759035  1.50878213  0.7910335  -3.60823881\n",
      "   0.93453   ]]\n"
     ]
    }
   ],
   "source": [
    "from sklearn.preprocessing import StandardScaler\n",
    "\n",
    "scaler_train_x = StandardScaler().fit(x_train)\n",
    "standardized_train_x = scaler_train_x.transform(x_train)\n",
    "\n",
    "print(f\"Before Standardization:\\n {standardized_train_x[:3]}\")\n",
    "print()\n",
    "print(f\"After Standardization:\\n {standardized_x[:3]}\")"
   ]
  },
  {
   "cell_type": "markdown",
   "id": "1de6b67a",
   "metadata": {},
   "source": [
    "StandardScaler - используется для изменения размера распределения значений так, чтобы среднее значение наблюдаемых значений было равно 0, а стандартное отклонение – 1.\n",
    "\n",
    "Fit - Метод идентифицирует и изучает параметры модели только из набора тренировок.\n",
    "\n",
    "Transform - преобразование данных (создание выходных данных модели) в соответствии с подобранной моделью."
   ]
  },
  {
   "cell_type": "markdown",
   "id": "b68b229f",
   "metadata": {},
   "source": [
    "### Нормализация \n",
    "В ML нормализацией называют метод предоработки числовых признаков в обучающих наборах данных с целью приведения их к некоторой общей шкале без потери информации о различии диапозонов. Нормализация подразумивает изменение диапозонов в данных без изменения формы распределения.\n",
    "Нормализация данных позволяет всем признакам вносить одинаковый вклад, позволяет добавлять признаки в зависимости от их важности, а не масштаба."
   ]
  },
  {
   "cell_type": "code",
   "execution_count": 315,
   "id": "e392eae0",
   "metadata": {},
   "outputs": [
    {
     "name": "stdout",
     "output_type": "stream",
     "text": [
      "Before Normalization: \n",
      " [[1.420e+01 1.760e+00 2.450e+00 1.520e+01 1.120e+02 3.270e+00 3.390e+00\n",
      "  3.400e-01 1.970e+00 6.750e+00 1.050e+00 2.850e+00 1.450e+03]\n",
      " [1.340e+01 4.600e+00 2.860e+00 2.500e+01 1.120e+02 1.980e+00 9.600e-01\n",
      "  2.700e-01 1.110e+00 8.500e+00 6.700e-01 1.920e+00 6.300e+02]\n",
      " [1.247e+01 1.520e+00 2.200e+00 1.900e+01 1.620e+02 2.500e+00 2.270e+00\n",
      "  3.200e-01 3.280e+00 2.600e+00 1.160e+00 2.630e+00 9.370e+02]]\n",
      "\n",
      "After Normalization: \n",
      " [[9.76281317e-03 1.21003881e-03 1.68442903e-03 1.04503352e-02\n",
      "  7.70024700e-02 2.24819712e-03 2.33069976e-03 2.33757498e-04\n",
      "  1.35441845e-03 4.64077386e-03 7.21898157e-04 1.95943785e-03\n",
      "  9.96906978e-01]\n",
      " [2.09180915e-02 7.18083740e-03 4.46460760e-03 3.90262902e-02\n",
      "  1.74837780e-01 3.09088218e-03 1.49860954e-03 4.21483934e-04\n",
      "  1.73276728e-03 1.32689387e-02 1.04590458e-03 2.99721909e-03\n",
      "  9.83462513e-01]\n",
      " [1.31098105e-02 1.59798812e-03 2.31287755e-03 1.99748515e-02\n",
      "  1.70311892e-01 2.62826994e-03 2.38646910e-03 3.36418552e-04\n",
      "  3.44829016e-03 2.73340074e-03 1.21951725e-03 2.76493997e-03\n",
      "  9.85075573e-01]]\n"
     ]
    }
   ],
   "source": [
    "from sklearn.preprocessing import Normalizer\n",
    "\n",
    "scaler = Normalizer().fit(x_test)\n",
    "normalized = scaler.transform(x_test)\n",
    "\n",
    "print(f\"Before Normalization: \\n {x_test[:3]}\")\n",
    "print()\n",
    "print(f\"After Normalization: \\n {normalized[:3]}\")"
   ]
  },
  {
   "cell_type": "markdown",
   "id": "25419e6d",
   "metadata": {},
   "source": [
    "### Бинаризация\n",
    "Бинаризация данных в соотвествии с пороговым значением."
   ]
  },
  {
   "cell_type": "code",
   "execution_count": 420,
   "id": "ad26361f",
   "metadata": {},
   "outputs": [
    {
     "name": "stdout",
     "output_type": "stream",
     "text": [
      "Before Binarizer: \n",
      " [[ 0.89003278  0.81000201  0.62686259  0.16959095  0.51316624 -0.74076792\n",
      "  -1.4617898   0.99996246 -1.36589171  0.34015502  0.00430894 -1.06558848\n",
      "  -0.18527803]\n",
      " [ 1.63460238 -0.36240568  1.29001285  0.16959095  1.42505157  0.85280336\n",
      "   1.19723561 -0.33312428  0.72940018  0.47344843  0.47475524  0.1034665\n",
      "   1.77095205]\n",
      " [-0.73337306  1.30871275  0.03739569  0.46715819 -0.81958925  0.03137486\n",
      "  -1.090763    0.99996246 -0.93608824  1.07743419 -1.70640487 -1.40362848\n",
      "  -0.70693939]]\n",
      "\n",
      "After Binarizer: \n",
      " [[1. 1. 1. 1. 1. 0. 0. 1. 0. 1. 1. 0. 0.]\n",
      " [1. 0. 1. 1. 1. 1. 1. 0. 1. 1. 1. 1. 1.]\n",
      " [0. 1. 1. 1. 0. 1. 0. 1. 0. 1. 0. 0. 0.]]\n"
     ]
    }
   ],
   "source": [
    "from sklearn.preprocessing import Binarizer\n",
    "\n",
    "data = standardized_train_x\n",
    "\n",
    "binarizer = Binarizer(threshold = 0.0).fit(data)\n",
    "binary_data = binarizer.transform(data)\n",
    "\n",
    "print(f\"Before Binarizer: \\n {data[:3]}\")\n",
    "print()\n",
    "print(f\"After Binarizer: \\n {binary_data[:3]}\")\n"
   ]
  },
  {
   "cell_type": "markdown",
   "id": "028bedec",
   "metadata": {},
   "source": [
    "threshold - пороговое значение."
   ]
  },
  {
   "cell_type": "markdown",
   "id": "7d4f94d1",
   "metadata": {},
   "source": [
    "## Обучение модели\n",
    "Это обработка набора данных с использованием некоторого алгоритма, который позволяет анализировать предоставленные данные и запомнить полученные результаты."
   ]
  },
  {
   "cell_type": "code",
   "execution_count": 380,
   "id": "f7d5b42f",
   "metadata": {},
   "outputs": [],
   "source": [
    "from sklearn.cluster import KMeans\n",
    "\n",
    "kmeans = KMeans().fit(standardized_train_x, y_train)"
   ]
  },
  {
   "cell_type": "markdown",
   "id": "a0066ea1",
   "metadata": {},
   "source": []
  },
  {
   "cell_type": "code",
   "execution_count": 414,
   "id": "6bd10d45",
   "metadata": {},
   "outputs": [
    {
     "name": "stdout",
     "output_type": "stream",
     "text": [
      "Predict: [1 7 1 1 1 1 1 1 1 1 1 1 1 1 1 7 1 1 1 7 1 1 1 7 1 1 1 1 1 1 7 7 1 1 1 7 7\n",
      " 1 1 1 1 1 1 1 1]\n",
      "0.37777777777777777\n"
     ]
    }
   ],
   "source": [
    "from sklearn.datasets import load_wine\n",
    "from sklearn.model_selection import train_test_split\n",
    "from sklearn.preprocessing import StandardScaler\n",
    "from sklearn.linear_model import LinearRegression\n",
    "from sklearn.cluster import KMeans\n",
    "from sklearn.metrics import accuracy_score\n",
    "\n",
    "x, y = load_wine(return_X_y=True)\n",
    "\n",
    "x_train, x_test, y_train, y_test = train_test_split(x, y)\n",
    "\n",
    "scaler_train_x = StandardScaler().fit(x_train)\n",
    "standardized_train_x = scaler_train_x.transform(x_train)\n",
    "\n",
    "kmeans = KMeans().fit(standardized_train_x, y_train)\n",
    "\n",
    "pred_test = kmeans.predict(x_test)\n",
    "print(f\"Predict: {pred_test}\")\n",
    "\n",
    "print(accuracy_score(y_test, pred_test))"
   ]
  },
  {
   "cell_type": "code",
   "execution_count": null,
   "id": "bf333e70",
   "metadata": {},
   "outputs": [],
   "source": []
  }
 ],
 "metadata": {
  "kernelspec": {
   "display_name": "Python 3 (ipykernel)",
   "language": "python",
   "name": "python3"
  },
  "language_info": {
   "codemirror_mode": {
    "name": "ipython",
    "version": 3
   },
   "file_extension": ".py",
   "mimetype": "text/x-python",
   "name": "python",
   "nbconvert_exporter": "python",
   "pygments_lexer": "ipython3",
   "version": "3.8.10"
  }
 },
 "nbformat": 4,
 "nbformat_minor": 5
}
